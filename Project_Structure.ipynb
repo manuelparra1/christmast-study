{
 "cells": [
  {
   "cell_type": "markdown",
   "id": "d7f66786",
   "metadata": {},
   "source": [
    "Due Monday Jan 2"
   ]
  },
  {
   "cell_type": "markdown",
   "id": "2f4263ca",
   "metadata": {},
   "source": [
    "# Classication Project"
   ]
  },
  {
   "cell_type": "markdown",
   "id": "1daa4506",
   "metadata": {},
   "source": [
    "Read https://ds.codeup.com/classification/project/"
   ]
  },
  {
   "cell_type": "markdown",
   "id": "5b91e305",
   "metadata": {},
   "source": [
    "> Example https://github.com/Johndsalas/chess_upsets_example_project"
   ]
  },
  {
   "cell_type": "markdown",
   "id": "44952d1c",
   "metadata": {},
   "source": [
    "`Explore.py`, and `Modeling.py`"
   ]
  },
  {
   "cell_type": "markdown",
   "id": "0cf0d6a9",
   "metadata": {},
   "source": [
    "Format Readme"
   ]
  },
  {
   "cell_type": "markdown",
   "id": "6425b640",
   "metadata": {},
   "source": [
    "https://ds.codeup.com/fundamentals/data-science-pipeline/"
   ]
  },
  {
   "cell_type": "markdown",
   "id": "80a93595",
   "metadata": {},
   "source": [
    "# 1st Step Data Pipeline: Planning"
   ]
  },
  {
   "cell_type": "markdown",
   "id": "01b46ab0",
   "metadata": {},
   "source": [
    "#### Data Library\n",
    "#### - Describe Columns"
   ]
  },
  {
   "cell_type": "markdown",
   "id": "af5f7827",
   "metadata": {},
   "source": [
    "# MVP\n",
    "## Time Management"
   ]
  },
  {
   "cell_type": "markdown",
   "id": "c928354b",
   "metadata": {},
   "source": [
    "hr.new4 {\n",
    "  border: 1px solid red;\n",
    "}"
   ]
  },
  {
   "cell_type": "markdown",
   "id": "d0b7ea99",
   "metadata": {},
   "source": [
    "Use `.ipynb` project template"
   ]
  },
  {
   "cell_type": "markdown",
   "id": "5e0a1746",
   "metadata": {},
   "source": [
    "https://github.com/Johndsalas/lesson_prep/blob/main/project_template.ipynb"
   ]
  },
  {
   "cell_type": "code",
   "execution_count": null,
   "id": "ade7ab81",
   "metadata": {},
   "outputs": [],
   "source": []
  }
 ],
 "metadata": {
  "kernelspec": {
   "display_name": "Python 3 (ipykernel)",
   "language": "python",
   "name": "python3"
  },
  "language_info": {
   "codemirror_mode": {
    "name": "ipython",
    "version": 3
   },
   "file_extension": ".py",
   "mimetype": "text/x-python",
   "name": "python",
   "nbconvert_exporter": "python",
   "pygments_lexer": "ipython3",
   "version": "3.9.13"
  }
 },
 "nbformat": 4,
 "nbformat_minor": 5
}
