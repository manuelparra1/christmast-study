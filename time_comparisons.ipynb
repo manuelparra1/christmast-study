{
 "cells": [
  {
   "cell_type": "code",
   "execution_count": 165,
   "id": "08318912",
   "metadata": {},
   "outputs": [],
   "source": [
    "import pandas as pd\n",
    "import timeit"
   ]
  },
  {
   "cell_type": "markdown",
   "id": "c13f58b4",
   "metadata": {},
   "source": [
    "# Time Comparisons"
   ]
  },
  {
   "cell_type": "markdown",
   "id": "12d7878b",
   "metadata": {},
   "source": [
    "### List Comprehension"
   ]
  },
  {
   "cell_type": "code",
   "execution_count": 167,
   "id": "f2afd20d",
   "metadata": {
    "scrolled": false
   },
   "outputs": [
    {
     "name": "stdout",
     "output_type": "stream",
     "text": [
      "1.5048221250035567\n"
     ]
    }
   ],
   "source": [
    "x = timeit.timeit ('[x for x in range(100)]',number=999_999)\n",
    "print(x)"
   ]
  },
  {
   "cell_type": "markdown",
   "id": "a3a60418",
   "metadata": {},
   "source": [
    "### Map + Func"
   ]
  },
  {
   "cell_type": "code",
   "execution_count": 170,
   "id": "90e148f5",
   "metadata": {},
   "outputs": [
    {
     "name": "stdout",
     "output_type": "stream",
     "text": [
      "0.1573996250081109\n"
     ]
    }
   ],
   "source": [
    "s='def func():print(i)'\n",
    "y=timeit.timeit('map(func,range(100))',number=999_999, setup=s)\n",
    "print(y)"
   ]
  },
  {
   "cell_type": "markdown",
   "id": "0f8598fb",
   "metadata": {},
   "source": [
    "### Map + Lambda"
   ]
  },
  {
   "cell_type": "code",
   "execution_count": 171,
   "id": "561fe993",
   "metadata": {
    "scrolled": true
   },
   "outputs": [
    {
     "name": "stdout",
     "output_type": "stream",
     "text": [
      "0.1871756249893224\n"
     ]
    }
   ],
   "source": [
    "z = timeit.timeit('map(lambda a: print(a), range(100))',number=999_999)\n",
    "print(z)"
   ]
  }
 ],
 "metadata": {
  "kernelspec": {
   "display_name": "Python 3 (ipykernel)",
   "language": "python",
   "name": "python3"
  },
  "language_info": {
   "codemirror_mode": {
    "name": "ipython",
    "version": 3
   },
   "file_extension": ".py",
   "mimetype": "text/x-python",
   "name": "python",
   "nbconvert_exporter": "python",
   "pygments_lexer": "ipython3",
   "version": "3.10.8"
  }
 },
 "nbformat": 4,
 "nbformat_minor": 5
}
