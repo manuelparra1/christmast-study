{
 "cells": [
  {
   "cell_type": "code",
   "execution_count": 165,
   "id": "c028415a",
   "metadata": {},
   "outputs": [],
   "source": [
    "import pandas as pd\n",
    "import timeit"
   ]
  },
  {
   "cell_type": "markdown",
   "id": "232bed74",
   "metadata": {},
   "source": [
    "# Generators"
   ]
  },
  {
   "cell_type": "code",
   "execution_count": 51,
   "id": "e01bf79a",
   "metadata": {},
   "outputs": [],
   "source": [
    "it = (i for i in range(10))\n",
    "n = 4"
   ]
  },
  {
   "cell_type": "code",
   "execution_count": 88,
   "id": "80d600a7",
   "metadata": {},
   "outputs": [],
   "source": [
    "abc_list=['a','b','c']"
   ]
  },
  {
   "cell_type": "code",
   "execution_count": 99,
   "id": "c59929e9",
   "metadata": {},
   "outputs": [
    {
     "name": "stdout",
     "output_type": "stream",
     "text": [
      "E=2 & R=c\n"
     ]
    }
   ],
   "source": [
    "n=2\n",
    "for x,y in enumerate(abc_list):\n",
    "    if x == n:\n",
    "        print(f\"E={x} & R={y}\")"
   ]
  },
  {
   "cell_type": "code",
   "execution_count": 97,
   "id": "c6c8a502",
   "metadata": {},
   "outputs": [
    {
     "name": "stdout",
     "output_type": "stream",
     "text": [
      "E=0 & R=0\n",
      "E=1 & R=1\n",
      "E=2 & R=2\n",
      "E=3 & R=3\n",
      "E=4 & R=4\n",
      "E=5 & R=5\n"
     ]
    }
   ],
   "source": [
    "n=2\n",
    "for x,y in enumerate(range(6)):\n",
    "    #if x == n:\n",
    "        print(f\"E={x} & R={y}\")"
   ]
  },
  {
   "cell_type": "code",
   "execution_count": null,
   "id": "3466024e",
   "metadata": {},
   "outputs": [],
   "source": [
    "n=2\n",
    "for x,y in enumerate(abc_list):\n",
    "    if x == n:\n",
    "        print(y)"
   ]
  },
  {
   "cell_type": "code",
   "execution_count": 79,
   "id": "eb969629",
   "metadata": {},
   "outputs": [
    {
     "data": {
      "text/plain": [
       "5"
      ]
     },
     "execution_count": 79,
     "metadata": {},
     "output_type": "execute_result"
    }
   ],
   "source": [
    "def stack_overflow_gen():\n",
    "    gen = (i for i in range(10))\n",
    "    index = 5\n",
    "    \n",
    "    for i, v in enumerate(gen):\n",
    "        if i is index:\n",
    "            return v\n",
    "\n",
    "stack_overflow_gen()"
   ]
  },
  {
   "cell_type": "code",
   "execution_count": 84,
   "id": "ec94447a",
   "metadata": {},
   "outputs": [
    {
     "data": {
      "text/plain": [
       "2"
      ]
     },
     "execution_count": 84,
     "metadata": {},
     "output_type": "execute_result"
    }
   ],
   "source": [
    "def stack_overflow_gen2():\n",
    "    gen = (i for i in range(10))\n",
    "    n = 2\n",
    "    \n",
    "    [_ for _ in range(n) if next(gen) and False ]\n",
    "    return next(gen)\n",
    "\n",
    "stack_overflow_gen2()"
   ]
  },
  {
   "cell_type": "code",
   "execution_count": 101,
   "id": "17e1febb",
   "metadata": {},
   "outputs": [
    {
     "data": {
      "text/plain": [
       "3"
      ]
     },
     "execution_count": 101,
     "metadata": {},
     "output_type": "execute_result"
    }
   ],
   "source": [
    "it = (i for i in range(10))\n",
    "n=3\n",
    "next((x for i,x in enumerate(it) if i==n), None)"
   ]
  },
  {
   "cell_type": "markdown",
   "id": "947e2293",
   "metadata": {
    "tags": []
   },
   "source": [
    "# `lambda : `"
   ]
  },
  {
   "cell_type": "code",
   "execution_count": 102,
   "id": "0168183a",
   "metadata": {},
   "outputs": [
    {
     "data": {
      "text/plain": [
       "9"
      ]
     },
     "execution_count": 102,
     "metadata": {},
     "output_type": "execute_result"
    }
   ],
   "source": [
    "# (x+4)(5)\n",
    "# (5+4)\n",
    "\n",
    "(lambda x: x+4)(5)"
   ]
  },
  {
   "cell_type": "code",
   "execution_count": 103,
   "id": "1a2e04fa",
   "metadata": {},
   "outputs": [
    {
     "data": {
      "text/plain": [
       "3"
      ]
     },
     "execution_count": 103,
     "metadata": {},
     "output_type": "execute_result"
    }
   ],
   "source": [
    "# (x+1)(2)\n",
    "# (2+1)\n",
    "\n",
    "(lambda x: x + 1)(2)"
   ]
  },
  {
   "cell_type": "code",
   "execution_count": 4,
   "id": "243a3c5c",
   "metadata": {
    "scrolled": true
   },
   "outputs": [
    {
     "data": {
      "text/plain": [
       "5"
      ]
     },
     "execution_count": 4,
     "metadata": {},
     "output_type": "execute_result"
    }
   ],
   "source": [
    "# (x+y)(2,3)\n",
    "# (2+3)\n",
    "\n",
    "(lambda x, y: x + y)(2, 3)"
   ]
  },
  {
   "cell_type": "code",
   "execution_count": 104,
   "id": "893a14dd",
   "metadata": {},
   "outputs": [
    {
     "data": {
      "text/plain": [
       "'Full name: Manuel Parra'"
      ]
     },
     "execution_count": 104,
     "metadata": {},
     "output_type": "execute_result"
    }
   ],
   "source": [
    "full_name = lambda first, last: f'Full name: {first.title()} {last.title()}'\n",
    "full_name('Manuel','Parra')"
   ]
  },
  {
   "cell_type": "markdown",
   "id": "3a78abfd-a09e-487a-a03c-4eb7b6f2784a",
   "metadata": {
    "tags": []
   },
   "source": [
    "# **DO** `[List Comprehension]` with `lambda : `"
   ]
  },
  {
   "cell_type": "code",
   "execution_count": 32,
   "id": "81090b38",
   "metadata": {},
   "outputs": [],
   "source": [
    "sample = [14,15,16,17,18,19,20]"
   ]
  },
  {
   "cell_type": "code",
   "execution_count": 105,
   "id": "67af2895",
   "metadata": {},
   "outputs": [],
   "source": [
    "sample_even = [x/2 for x in sample if x%2 ==0]"
   ]
  },
  {
   "cell_type": "code",
   "execution_count": 106,
   "id": "460a1947",
   "metadata": {},
   "outputs": [
    {
     "name": "stdout",
     "output_type": "stream",
     "text": [
      "[7.0, 8.0, 9.0, 10.0]\n"
     ]
    }
   ],
   "source": [
    "print(sample_even)"
   ]
  },
  {
   "cell_type": "code",
   "execution_count": 107,
   "id": "b61f62b4",
   "metadata": {},
   "outputs": [],
   "source": [
    "test=[lambda x, i=i: x * i for i in range(4)]"
   ]
  },
  {
   "cell_type": "markdown",
   "id": "d0a05b7e",
   "metadata": {
    "tags": []
   },
   "source": [
    "# **DO** `.apply()` with `lambda : ` or `func()`"
   ]
  },
  {
   "cell_type": "code",
   "execution_count": 13,
   "id": "b6d78640",
   "metadata": {},
   "outputs": [],
   "source": [
    "df = pd.DataFrame({'Name' : ['Ankit', 'Aishwarya', 'Shaurya', 'Shivangi'],\\\n",
    "                   'Age' : [23, 21, 22, 21],\\\n",
    "                   'University' : ['BHU', 'JNU', 'DU', 'BHU'],\n",
    "})"
   ]
  },
  {
   "cell_type": "code",
   "execution_count": 14,
   "id": "742b174a",
   "metadata": {},
   "outputs": [
    {
     "data": {
      "text/html": [
       "<div>\n",
       "<style scoped>\n",
       "    .dataframe tbody tr th:only-of-type {\n",
       "        vertical-align: middle;\n",
       "    }\n",
       "\n",
       "    .dataframe tbody tr th {\n",
       "        vertical-align: top;\n",
       "    }\n",
       "\n",
       "    .dataframe thead th {\n",
       "        text-align: right;\n",
       "    }\n",
       "</style>\n",
       "<table border=\"1\" class=\"dataframe\">\n",
       "  <thead>\n",
       "    <tr style=\"text-align: right;\">\n",
       "      <th></th>\n",
       "      <th>Name</th>\n",
       "      <th>Age</th>\n",
       "      <th>University</th>\n",
       "    </tr>\n",
       "  </thead>\n",
       "  <tbody>\n",
       "    <tr>\n",
       "      <th>0</th>\n",
       "      <td>Ankit</td>\n",
       "      <td>23</td>\n",
       "      <td>BHU</td>\n",
       "    </tr>\n",
       "    <tr>\n",
       "      <th>1</th>\n",
       "      <td>Aishwarya</td>\n",
       "      <td>21</td>\n",
       "      <td>JNU</td>\n",
       "    </tr>\n",
       "    <tr>\n",
       "      <th>2</th>\n",
       "      <td>Shaurya</td>\n",
       "      <td>22</td>\n",
       "      <td>DU</td>\n",
       "    </tr>\n",
       "    <tr>\n",
       "      <th>3</th>\n",
       "      <td>Shivangi</td>\n",
       "      <td>21</td>\n",
       "      <td>BHU</td>\n",
       "    </tr>\n",
       "  </tbody>\n",
       "</table>\n",
       "</div>"
      ],
      "text/plain": [
       "        Name  Age University\n",
       "0      Ankit   23        BHU\n",
       "1  Aishwarya   21        JNU\n",
       "2    Shaurya   22         DU\n",
       "3   Shivangi   21        BHU"
      ]
     },
     "execution_count": 14,
     "metadata": {},
     "output_type": "execute_result"
    }
   ],
   "source": [
    "df.head()"
   ]
  },
  {
   "cell_type": "markdown",
   "id": "c1c4c697",
   "metadata": {},
   "source": [
    "### `apply()` with `lambda : `"
   ]
  },
  {
   "cell_type": "code",
   "execution_count": 28,
   "id": "1bb231a1",
   "metadata": {},
   "outputs": [],
   "source": [
    "df['Age']=df['Age'].apply(lambda x : (x/2)-10)"
   ]
  },
  {
   "cell_type": "code",
   "execution_count": 29,
   "id": "06d6ea98",
   "metadata": {
    "scrolled": true
   },
   "outputs": [
    {
     "data": {
      "text/html": [
       "<div>\n",
       "<style scoped>\n",
       "    .dataframe tbody tr th:only-of-type {\n",
       "        vertical-align: middle;\n",
       "    }\n",
       "\n",
       "    .dataframe tbody tr th {\n",
       "        vertical-align: top;\n",
       "    }\n",
       "\n",
       "    .dataframe thead th {\n",
       "        text-align: right;\n",
       "    }\n",
       "</style>\n",
       "<table border=\"1\" class=\"dataframe\">\n",
       "  <thead>\n",
       "    <tr style=\"text-align: right;\">\n",
       "      <th></th>\n",
       "      <th>Name</th>\n",
       "      <th>Age</th>\n",
       "      <th>University</th>\n",
       "    </tr>\n",
       "  </thead>\n",
       "  <tbody>\n",
       "    <tr>\n",
       "      <th>0</th>\n",
       "      <td>Ankit</td>\n",
       "      <td>23.0</td>\n",
       "      <td>BHU</td>\n",
       "    </tr>\n",
       "    <tr>\n",
       "      <th>1</th>\n",
       "      <td>Aishwarya</td>\n",
       "      <td>21.0</td>\n",
       "      <td>JNU</td>\n",
       "    </tr>\n",
       "    <tr>\n",
       "      <th>2</th>\n",
       "      <td>Shaurya</td>\n",
       "      <td>22.0</td>\n",
       "      <td>DU</td>\n",
       "    </tr>\n",
       "    <tr>\n",
       "      <th>3</th>\n",
       "      <td>Shivangi</td>\n",
       "      <td>21.0</td>\n",
       "      <td>BHU</td>\n",
       "    </tr>\n",
       "  </tbody>\n",
       "</table>\n",
       "</div>"
      ],
      "text/plain": [
       "        Name   Age University\n",
       "0      Ankit  23.0        BHU\n",
       "1  Aishwarya  21.0        JNU\n",
       "2    Shaurya  22.0         DU\n",
       "3   Shivangi  21.0        BHU"
      ]
     },
     "execution_count": 29,
     "metadata": {},
     "output_type": "execute_result"
    }
   ],
   "source": [
    "df.head()"
   ]
  },
  {
   "cell_type": "code",
   "execution_count": 117,
   "id": "0c272c97",
   "metadata": {},
   "outputs": [
    {
     "name": "stdout",
     "output_type": "stream",
     "text": [
      "jungle\n"
     ]
    }
   ],
   "source": [
    "txt = \"welcome to the jungle\"\n",
    "\n",
    "x = txt.split()\n",
    "\n",
    "print(x[3])"
   ]
  },
  {
   "cell_type": "code",
   "execution_count": 118,
   "id": "98d1fad3",
   "metadata": {},
   "outputs": [
    {
     "data": {
      "text/html": [
       "<div>\n",
       "<style scoped>\n",
       "    .dataframe tbody tr th:only-of-type {\n",
       "        vertical-align: middle;\n",
       "    }\n",
       "\n",
       "    .dataframe tbody tr th {\n",
       "        vertical-align: top;\n",
       "    }\n",
       "\n",
       "    .dataframe thead th {\n",
       "        text-align: right;\n",
       "    }\n",
       "</style>\n",
       "<table border=\"1\" class=\"dataframe\">\n",
       "  <thead>\n",
       "    <tr style=\"text-align: right;\">\n",
       "      <th></th>\n",
       "      <th>Name</th>\n",
       "      <th>Age</th>\n",
       "      <th>University</th>\n",
       "    </tr>\n",
       "  </thead>\n",
       "  <tbody>\n",
       "    <tr>\n",
       "      <th>0</th>\n",
       "      <td>Ankit</td>\n",
       "      <td>23.0</td>\n",
       "      <td>BHU</td>\n",
       "    </tr>\n",
       "    <tr>\n",
       "      <th>1</th>\n",
       "      <td>Aishwarya</td>\n",
       "      <td>21.0</td>\n",
       "      <td>JNU</td>\n",
       "    </tr>\n",
       "    <tr>\n",
       "      <th>2</th>\n",
       "      <td>Shaurya</td>\n",
       "      <td>22.0</td>\n",
       "      <td>DU</td>\n",
       "    </tr>\n",
       "    <tr>\n",
       "      <th>3</th>\n",
       "      <td>Shivangi</td>\n",
       "      <td>21.0</td>\n",
       "      <td>BHU</td>\n",
       "    </tr>\n",
       "  </tbody>\n",
       "</table>\n",
       "</div>"
      ],
      "text/plain": [
       "        Name   Age University\n",
       "0      Ankit  23.0        BHU\n",
       "1  Aishwarya  21.0        JNU\n",
       "2    Shaurya  22.0         DU\n",
       "3   Shivangi  21.0        BHU"
      ]
     },
     "execution_count": 118,
     "metadata": {},
     "output_type": "execute_result"
    }
   ],
   "source": [
    "df.head()"
   ]
  },
  {
   "cell_type": "markdown",
   "id": "b26a0be6",
   "metadata": {},
   "source": [
    "### `apply()` with `func()`"
   ]
  },
  {
   "cell_type": "code",
   "execution_count": 153,
   "id": "9efb54ed",
   "metadata": {},
   "outputs": [],
   "source": [
    "def double_num(df_col):\n",
    "    return (df_col * 2)+10"
   ]
  },
  {
   "cell_type": "code",
   "execution_count": 154,
   "id": "717c09a2",
   "metadata": {},
   "outputs": [],
   "source": [
    "df['Age']=df['Age'].apply(double_num)"
   ]
  },
  {
   "cell_type": "code",
   "execution_count": 156,
   "id": "5ec75883",
   "metadata": {},
   "outputs": [
    {
     "data": {
      "text/html": [
       "<div>\n",
       "<style scoped>\n",
       "    .dataframe tbody tr th:only-of-type {\n",
       "        vertical-align: middle;\n",
       "    }\n",
       "\n",
       "    .dataframe tbody tr th {\n",
       "        vertical-align: top;\n",
       "    }\n",
       "\n",
       "    .dataframe thead th {\n",
       "        text-align: right;\n",
       "    }\n",
       "</style>\n",
       "<table border=\"1\" class=\"dataframe\">\n",
       "  <thead>\n",
       "    <tr style=\"text-align: right;\">\n",
       "      <th></th>\n",
       "      <th>Name</th>\n",
       "      <th>Age</th>\n",
       "      <th>University</th>\n",
       "    </tr>\n",
       "  </thead>\n",
       "  <tbody>\n",
       "    <tr>\n",
       "      <th>0</th>\n",
       "      <td>Ankit</td>\n",
       "      <td>62.0</td>\n",
       "      <td>BHU</td>\n",
       "    </tr>\n",
       "    <tr>\n",
       "      <th>1</th>\n",
       "      <td>Aishwarya</td>\n",
       "      <td>54.0</td>\n",
       "      <td>JNU</td>\n",
       "    </tr>\n",
       "    <tr>\n",
       "      <th>2</th>\n",
       "      <td>Shaurya</td>\n",
       "      <td>58.0</td>\n",
       "      <td>DU</td>\n",
       "    </tr>\n",
       "    <tr>\n",
       "      <th>3</th>\n",
       "      <td>Shivangi</td>\n",
       "      <td>54.0</td>\n",
       "      <td>BHU</td>\n",
       "    </tr>\n",
       "  </tbody>\n",
       "</table>\n",
       "</div>"
      ],
      "text/plain": [
       "        Name   Age University\n",
       "0      Ankit  62.0        BHU\n",
       "1  Aishwarya  54.0        JNU\n",
       "2    Shaurya  58.0         DU\n",
       "3   Shivangi  54.0        BHU"
      ]
     },
     "execution_count": 156,
     "metadata": {},
     "output_type": "execute_result"
    }
   ],
   "source": [
    "df.head()"
   ]
  },
  {
   "cell_type": "markdown",
   "id": "c5d75232-bda3-4729-ae64-8429010caf30",
   "metadata": {
    "tags": []
   },
   "source": [
    "# **DO** `map()` with `func()`"
   ]
  },
  {
   "cell_type": "code",
   "execution_count": 161,
   "id": "5bd8804a-32fd-4465-99fd-8e39be93adfe",
   "metadata": {},
   "outputs": [
    {
     "name": "stdout",
     "output_type": "stream",
     "text": [
      "2\n",
      "4\n",
      "6\n",
      "8\n"
     ]
    }
   ],
   "source": [
    "def addition(n):\n",
    "    return n + n\n",
    "\n",
    "numbers = (1, 2, 3, 4)\n",
    "result = map(addition, numbers)\n",
    "for i in result:\n",
    "    print(i)"
   ]
  },
  {
   "cell_type": "markdown",
   "id": "f9058aa1-beec-4ccd-8648-3549d914a507",
   "metadata": {
    "tags": []
   },
   "source": [
    "# **DON'T** `map()` with `lambda : `"
   ]
  },
  {
   "cell_type": "code",
   "execution_count": 164,
   "id": "dd7731c4-df87-47e8-8dd9-c3a7275be35a",
   "metadata": {},
   "outputs": [
    {
     "name": "stdout",
     "output_type": "stream",
     "text": [
      "5\n",
      "7\n",
      "9\n"
     ]
    }
   ],
   "source": [
    "numbers1 = [1, 2, 3]\n",
    "numbers2 = [4, 5, 6]\n",
    "\n",
    "result = map(lambda x, y: x + y, numbers1, numbers2)\n",
    "for i in result:\n",
    "    print(i)"
   ]
  }
 ],
 "metadata": {
  "kernelspec": {
   "display_name": "Python 3 (ipykernel)",
   "language": "python",
   "name": "python3"
  },
  "language_info": {
   "codemirror_mode": {
    "name": "ipython",
    "version": 3
   },
   "file_extension": ".py",
   "mimetype": "text/x-python",
   "name": "python",
   "nbconvert_exporter": "python",
   "pygments_lexer": "ipython3",
   "version": "3.10.8"
  }
 },
 "nbformat": 4,
 "nbformat_minor": 5
}
