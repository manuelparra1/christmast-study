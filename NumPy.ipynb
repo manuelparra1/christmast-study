{
 "cells": [
  {
   "cell_type": "code",
   "execution_count": 4,
   "id": "9a656967-7503-49ca-8cdf-07675600c53f",
   "metadata": {},
   "outputs": [],
   "source": [
    "import numpy as np"
   ]
  },
  {
   "cell_type": "code",
   "execution_count": 11,
   "id": "2eebaac8-09db-4686-b93e-89814610c8a1",
   "metadata": {},
   "outputs": [],
   "source": [
    "b=[1,2,3,4,5,6,7,8,9,10,11]"
   ]
  },
  {
   "cell_type": "code",
   "execution_count": 12,
   "id": "0fadd55f-f496-4d54-9133-cef98138a2eb",
   "metadata": {},
   "outputs": [],
   "source": [
    "a=[10,11,12,13,14,15,16,17,1,6,9]"
   ]
  },
  {
   "cell_type": "code",
   "execution_count": 26,
   "id": "2846234f-4970-460d-84ed-a199738eaaf3",
   "metadata": {},
   "outputs": [],
   "source": [
    "a=np.asarray(a)\n",
    "b=np.asarray(b)"
   ]
  },
  {
   "cell_type": "code",
   "execution_count": 27,
   "id": "55ec1b21-7365-46ad-b007-becb8424f0e3",
   "metadata": {},
   "outputs": [
    {
     "data": {
      "text/plain": [
       "array([ True, False, False, False, False,  True, False, False,  True,\n",
       "        True,  True])"
      ]
     },
     "execution_count": 27,
     "metadata": {},
     "output_type": "execute_result"
    }
   ],
   "source": [
    "np.isin(b,a)"
   ]
  },
  {
   "cell_type": "code",
   "execution_count": 28,
   "id": "93b2dac8-ea6e-4a5a-9e2e-e3b94725ddcb",
   "metadata": {},
   "outputs": [],
   "source": [
    "filter_array = np.where(a > 10,'larger','smaller')"
   ]
  },
  {
   "cell_type": "code",
   "execution_count": 29,
   "id": "ff9951a7-8369-4b76-a262-254e11c93551",
   "metadata": {},
   "outputs": [
    {
     "data": {
      "text/plain": [
       "array(['smaller', 'larger', 'larger', 'larger', 'larger', 'larger',\n",
       "       'larger', 'larger', 'smaller', 'smaller', 'smaller'], dtype='<U7')"
      ]
     },
     "execution_count": 29,
     "metadata": {},
     "output_type": "execute_result"
    }
   ],
   "source": [
    "filter_array"
   ]
  },
  {
   "cell_type": "code",
   "execution_count": 30,
   "id": "b26c5cd4-aabf-4387-b8e9-3eeed8b77e88",
   "metadata": {},
   "outputs": [],
   "source": [
    "filtered_a = a[a>10]"
   ]
  },
  {
   "cell_type": "code",
   "execution_count": 31,
   "id": "1ce20f1d-5cbe-4fa0-970c-a193d5feb1ab",
   "metadata": {},
   "outputs": [
    {
     "data": {
      "text/plain": [
       "array([11, 12, 13, 14, 15, 16, 17])"
      ]
     },
     "execution_count": 31,
     "metadata": {},
     "output_type": "execute_result"
    }
   ],
   "source": [
    "filtered_a"
   ]
  }
 ],
 "metadata": {
  "kernelspec": {
   "display_name": "Python 3 (ipykernel)",
   "language": "python",
   "name": "python3"
  },
  "language_info": {
   "codemirror_mode": {
    "name": "ipython",
    "version": 3
   },
   "file_extension": ".py",
   "mimetype": "text/x-python",
   "name": "python",
   "nbconvert_exporter": "python",
   "pygments_lexer": "ipython3",
   "version": "3.11.0"
  }
 },
 "nbformat": 4,
 "nbformat_minor": 5
}
