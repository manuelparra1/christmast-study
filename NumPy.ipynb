{
 "cells": [
  {
   "cell_type": "code",
   "execution_count": 2,
   "id": "822f7b46-2cb0-4943-97ab-635750f57c6c",
   "metadata": {},
   "outputs": [],
   "source": [
    "import numpy as np"
   ]
  },
  {
   "cell_type": "markdown",
   "id": "c5943b2d-205c-46f5-a66e-d0de912a5792",
   "metadata": {
    "tags": []
   },
   "source": [
    "# NumPy Basics"
   ]
  },
  {
   "cell_type": "code",
   "execution_count": 11,
   "id": "1465cef2-66f7-495e-8eaa-1249603c7cea",
   "metadata": {},
   "outputs": [
    {
     "name": "stdout",
     "output_type": "stream",
     "text": [
      "1.24.0\n"
     ]
    }
   ],
   "source": [
    "print(np.__version__)"
   ]
  },
  {
   "cell_type": "code",
   "execution_count": 55,
   "id": "d5f3436f-8610-4357-825a-1a49f8fd639b",
   "metadata": {},
   "outputs": [],
   "source": [
    "a = np.array([1,2,3,4,5,6,7,8])"
   ]
  },
  {
   "cell_type": "code",
   "execution_count": 46,
   "id": "268307cb-9bf4-4c91-b92a-9be7c7e3c4c2",
   "metadata": {},
   "outputs": [],
   "source": [
    "b = np.array([11,12,13,14,15,16])"
   ]
  },
  {
   "cell_type": "code",
   "execution_count": 47,
   "id": "690ad359-3ec9-4957-8be6-a92fcacfa94c",
   "metadata": {},
   "outputs": [
    {
     "name": "stdout",
     "output_type": "stream",
     "text": [
      "[1 2 3 4 5 6]\n"
     ]
    }
   ],
   "source": [
    "print(a)"
   ]
  },
  {
   "cell_type": "code",
   "execution_count": 48,
   "id": "b1186ae8-27f8-4142-b458-a352d5568e0d",
   "metadata": {},
   "outputs": [
    {
     "name": "stdout",
     "output_type": "stream",
     "text": [
      "(6,)\n"
     ]
    }
   ],
   "source": [
    "print(a.shape)"
   ]
  },
  {
   "cell_type": "code",
   "execution_count": 49,
   "id": "3c8ab052-bc72-4234-8348-363b1768d9e8",
   "metadata": {},
   "outputs": [
    {
     "name": "stdout",
     "output_type": "stream",
     "text": [
      "1\n"
     ]
    }
   ],
   "source": [
    "print(a.ndim)"
   ]
  },
  {
   "cell_type": "code",
   "execution_count": 51,
   "id": "9b22b9eb-4e3f-42cf-a1a8-1fcebf716aba",
   "metadata": {},
   "outputs": [
    {
     "name": "stdout",
     "output_type": "stream",
     "text": [
      "6\n"
     ]
    }
   ],
   "source": [
    "print(a.size)"
   ]
  },
  {
   "cell_type": "code",
   "execution_count": 52,
   "id": "8dc14975-a4a5-4622-b0e9-6ad6577e0fb1",
   "metadata": {},
   "outputs": [],
   "source": [
    "a=np.sqrt(a)"
   ]
  },
  {
   "cell_type": "code",
   "execution_count": 53,
   "id": "8ea81ae6-f136-4f0f-8721-d1af3c6971f9",
   "metadata": {},
   "outputs": [
    {
     "name": "stdout",
     "output_type": "stream",
     "text": [
      "[1.         1.41421356 1.73205081 2.         2.23606798 2.44948974]\n"
     ]
    }
   ],
   "source": [
    "print(a)"
   ]
  },
  {
   "cell_type": "code",
   "execution_count": 64,
   "id": "8fcc6d52-e2ce-4fc7-ae10-8285717501e7",
   "metadata": {},
   "outputs": [
    {
     "data": {
      "text/plain": [
       "array([1, 2, 3, 4])"
      ]
     },
     "execution_count": 64,
     "metadata": {},
     "output_type": "execute_result"
    }
   ],
   "source": [
    "a[:-2]"
   ]
  },
  {
   "cell_type": "code",
   "execution_count": 66,
   "id": "40d60c95-2672-457c-9622-4398954da46c",
   "metadata": {},
   "outputs": [
    {
     "data": {
      "text/plain": [
       "array([2, 3, 4])"
      ]
     },
     "execution_count": 66,
     "metadata": {},
     "output_type": "execute_result"
    }
   ],
   "source": [
    "a[1:-2]"
   ]
  },
  {
   "cell_type": "code",
   "execution_count": 70,
   "id": "25d21a64-948b-424f-821d-59519f7a9ec5",
   "metadata": {},
   "outputs": [
    {
     "name": "stdout",
     "output_type": "stream",
     "text": [
      "[[1 2]\n",
      " [3 4]\n",
      " [5 6]]\n"
     ]
    }
   ],
   "source": [
    "c = np.array([[1,2],[3,4],[5,6]])\n",
    "print(c)"
   ]
  },
  {
   "cell_type": "code",
   "execution_count": 71,
   "id": "037f5a58-62e1-4f26-9039-1ce2135885e0",
   "metadata": {},
   "outputs": [
    {
     "data": {
      "text/plain": [
       "(3, 2)"
      ]
     },
     "execution_count": 71,
     "metadata": {},
     "output_type": "execute_result"
    }
   ],
   "source": [
    "c.shape"
   ]
  },
  {
   "cell_type": "code",
   "execution_count": 74,
   "id": "3e55a93c-adcd-43ac-8606-61de1cc4ddc0",
   "metadata": {},
   "outputs": [
    {
     "data": {
      "text/plain": [
       "array([[False, False],\n",
       "       [ True,  True],\n",
       "       [ True,  True]])"
      ]
     },
     "execution_count": 74,
     "metadata": {},
     "output_type": "execute_result"
    }
   ],
   "source": [
    "c>2"
   ]
  },
  {
   "cell_type": "markdown",
   "id": "20e0d37e-cb33-478a-8ff5-4207bc09a9b2",
   "metadata": {
    "tags": []
   },
   "source": [
    "# Boolean Mask"
   ]
  },
  {
   "cell_type": "code",
   "execution_count": 100,
   "id": "ef886116-6183-46a0-b459-61229773234b",
   "metadata": {},
   "outputs": [
    {
     "data": {
      "text/plain": [
       "array([3, 4, 5, 6])"
      ]
     },
     "execution_count": 100,
     "metadata": {},
     "output_type": "execute_result"
    }
   ],
   "source": [
    "c[c>2]"
   ]
  },
  {
   "cell_type": "markdown",
   "id": "8ad527eb-d4b4-4f66-8bf4-20bca5f94f42",
   "metadata": {
    "tags": []
   },
   "source": [
    "# NumPy `where()`"
   ]
  },
  {
   "cell_type": "code",
   "execution_count": 103,
   "id": "c7837048-18e1-4299-b173-5f22df513ff8",
   "metadata": {},
   "outputs": [
    {
     "name": "stdout",
     "output_type": "stream",
     "text": [
      "[['not > 2' 'not > 2']\n",
      " ['num' 'num']\n",
      " ['num' 'num']]\n"
     ]
    }
   ],
   "source": [
    "# where(argument, if true, if false)\n",
    "\n",
    "np_where_version = np.where(c>2,'num','not > 2')\n",
    "print(np_where_version)"
   ]
  },
  {
   "cell_type": "markdown",
   "id": "a5606c29-4734-4041-af7b-7928abc0201f",
   "metadata": {
    "tags": []
   },
   "source": [
    "# Fancy Indexing"
   ]
  },
  {
   "cell_type": "code",
   "execution_count": null,
   "id": "4c6fa643-1269-44a2-85fa-40b559e5766d",
   "metadata": {},
   "outputs": [],
   "source": [
    "# Fancy Indexing\n",
    "# Using a list as index"
   ]
  },
  {
   "cell_type": "code",
   "execution_count": 88,
   "id": "cc429573-16c4-4016-919d-820d6b8ac031",
   "metadata": {},
   "outputs": [
    {
     "name": "stdout",
     "output_type": "stream",
     "text": [
      "[ 11 666   7  13  42   6  88  42]\n",
      "[666   7  13]\n"
     ]
    }
   ],
   "source": [
    "num_list = np.array([11,666,7,13,42,6,88,42])\n",
    "print(num_list)\n",
    "index_list = [1,2,3]\n",
    "print(num_list[index_list])"
   ]
  },
  {
   "cell_type": "markdown",
   "id": "e94dc101-4918-48ec-82a7-ae7960d831dc",
   "metadata": {
    "tags": []
   },
   "source": [
    "# NumPy `argwhere()`"
   ]
  },
  {
   "cell_type": "code",
   "execution_count": 97,
   "id": "7012cfa9-e7a0-48f9-9e66-e680fe56dcd6",
   "metadata": {},
   "outputs": [],
   "source": [
    "even = np.argwhere(num_list%2==0).flatten()"
   ]
  },
  {
   "cell_type": "code",
   "execution_count": 102,
   "id": "9d259e77-4fac-4880-a525-b878060659d0",
   "metadata": {},
   "outputs": [
    {
     "name": "stdout",
     "output_type": "stream",
     "text": [
      "[1 4 5 6 7]\n"
     ]
    }
   ],
   "source": [
    "# Returns Index\n",
    "print(even)"
   ]
  },
  {
   "cell_type": "code",
   "execution_count": 96,
   "id": "dca092be-c915-4c30-b5ef-eafa4cb48094",
   "metadata": {},
   "outputs": [
    {
     "name": "stdout",
     "output_type": "stream",
     "text": [
      "[[666]\n",
      " [ 42]\n",
      " [  6]\n",
      " [ 88]\n",
      " [ 42]]\n"
     ]
    }
   ],
   "source": [
    "print(num_list[even])"
   ]
  },
  {
   "cell_type": "markdown",
   "id": "ce577777-7a94-4c5a-b78d-2aed6c5597f5",
   "metadata": {
    "tags": []
   },
   "source": [
    "# NumPy Broadcasting"
   ]
  },
  {
   "cell_type": "code",
   "execution_count": 105,
   "id": "5de323f2-8529-47dc-a970-eb25289e9567",
   "metadata": {},
   "outputs": [],
   "source": [
    "x = np.array([[1,2,3],[4,5,6],[1,2,3],[4,5,6]])"
   ]
  },
  {
   "cell_type": "code",
   "execution_count": 106,
   "id": "322e8b51-def1-468e-b119-91b121354b64",
   "metadata": {},
   "outputs": [],
   "source": [
    "a = np.array([2,4,6])"
   ]
  },
  {
   "cell_type": "code",
   "execution_count": 107,
   "id": "5ff642d7-de9b-4cb1-b9d7-5b9b19a50521",
   "metadata": {},
   "outputs": [],
   "source": [
    "y=x+a"
   ]
  },
  {
   "cell_type": "code",
   "execution_count": 108,
   "id": "57166b6a-349f-4bd9-b152-c84228030f26",
   "metadata": {},
   "outputs": [
    {
     "name": "stdout",
     "output_type": "stream",
     "text": [
      "[[ 3  6  9]\n",
      " [ 6  9 12]\n",
      " [ 3  6  9]\n",
      " [ 6  9 12]]\n"
     ]
    }
   ],
   "source": [
    "print(y)"
   ]
  }
 ],
 "metadata": {
  "kernelspec": {
   "display_name": "Python 3 (ipykernel)",
   "language": "python",
   "name": "python3"
  },
  "language_info": {
   "codemirror_mode": {
    "name": "ipython",
    "version": 3
   },
   "file_extension": ".py",
   "mimetype": "text/x-python",
   "name": "python",
   "nbconvert_exporter": "python",
   "pygments_lexer": "ipython3",
   "version": "3.11.0"
  }
 },
 "nbformat": 4,
 "nbformat_minor": 5
}
