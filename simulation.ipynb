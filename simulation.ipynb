{
 "cells": [
  {
   "cell_type": "markdown",
   "id": "d2a46b53-c4b5-4550-83b9-3fc1bd09b34d",
   "metadata": {
    "tags": []
   },
   "source": [
    "# Exercises"
   ]
  },
  {
   "cell_type": "markdown",
   "id": "8441f8d6-bbaa-4fbb-8d07-927c6fb75aaf",
   "metadata": {},
   "source": [
    "Using the repo setup directions, setup a new local and remote repository named `statistics-exercises`. The local version of your repo should live inside of `~/codeup-data-science`. This repo should be named `statistics-exercises`\n",
    "\n",
    "Do your work for this exercise in either a python file named `simulation.py` or a jupyter notebook named `simulation.ipynb`."
   ]
  },
  {
   "cell_type": "markdown",
   "id": "6e1fb4d6-85c6-49a6-958b-db18c3d793ca",
   "metadata": {
    "tags": []
   },
   "source": [
    "### 1. How likely is it that you roll doubles when rolling two dice?"
   ]
  },
  {
   "cell_type": "code",
   "execution_count": null,
   "id": "78cdf864-f5d7-4875-b217-0c22359fd5b8",
   "metadata": {},
   "outputs": [],
   "source": []
  },
  {
   "cell_type": "markdown",
   "id": "2690eb9b-b3ef-4af3-8d39-561e5693f163",
   "metadata": {},
   "source": [
    "### 2. If you flip 8 coins, what is the probability of getting exactly 3 heads? What is the probability of getting more than 3 heads?"
   ]
  },
  {
   "cell_type": "code",
   "execution_count": null,
   "id": "2c749f1a-b89d-4a18-91cd-d891b12aed73",
   "metadata": {},
   "outputs": [],
   "source": []
  },
  {
   "cell_type": "markdown",
   "id": "f4315581-9074-4b5e-ba96-074d9e708208",
   "metadata": {},
   "source": [
    "### 3. There are approximitely 3 web development cohorts for every 1 data science cohort at Codeup. Assuming that Codeup randomly selects an alumni to put on a billboard, what are the odds that the two billboards I drive past both have data science students on them?"
   ]
  },
  {
   "cell_type": "code",
   "execution_count": null,
   "id": "22f3c53f-f832-4455-ab4b-a3046113dabf",
   "metadata": {},
   "outputs": [],
   "source": []
  },
  {
   "cell_type": "markdown",
   "id": "74e93e3e-50c9-4903-a8e7-069f90597a15",
   "metadata": {},
   "source": [
    "### 4. Codeup students buy, on average, 3 poptart packages with a standard deviation of 1.5 a day from the snack vending machine. If on monday the machine is restocked with 17 poptart packages, how likely is it that I will be able to buy some poptarts on Friday afternoon? (Remember, if you have mean and standard deviation, use the np.random.normal) You'll need to make a judgement call on how to handle some of your values"
   ]
  },
  {
   "cell_type": "code",
   "execution_count": null,
   "id": "7a233a94-d8eb-4663-9811-a4e799201e48",
   "metadata": {},
   "outputs": [],
   "source": []
  },
  {
   "cell_type": "markdown",
   "id": "0e9d5982-76f1-407b-9bd3-8c4020e29ff4",
   "metadata": {
    "tags": []
   },
   "source": [
    "### 5. Compare Heights"
   ]
  },
  {
   "cell_type": "markdown",
   "id": "3054dca4-3510-4848-b8f6-6855a2b6118e",
   "metadata": {},
   "source": [
    "- Men have an average height of 178 cm and standard deviation of 8cm.\n",
    "- Women have a mean of 170, sd = 6cm.\n",
    "- Since you have means and standard deviations, you can use np.random.normal to generate observations.\n",
    "- If a man and woman are chosen at random, what is the likelihood the woman is taller than the man?"
   ]
  },
  {
   "cell_type": "code",
   "execution_count": null,
   "id": "a49f2c25-017b-44ba-b27a-cdc063731684",
   "metadata": {},
   "outputs": [],
   "source": []
  },
  {
   "cell_type": "markdown",
   "id": "c97d2c33-1d58-4dfe-8336-51c29042feb5",
   "metadata": {
    "tags": []
   },
   "source": [
    "### 6. When installing anaconda on a student's computer, there's a 1 in 250 chance that the download is corrupted and the installation fails. What are the odds that after having 50 students download anaconda, no one has an installation issue? 100 students?"
   ]
  },
  {
   "cell_type": "markdown",
   "id": "4fb467f7-d5cf-42e6-9d67-61bf04577d95",
   "metadata": {},
   "source": [
    "- What is the probability that we observe an installation issue within the first 150 students that download anaconda?\n",
    "\n",
    "- How likely is it that 450 students all download anaconda without an issue?\n",
    "\n",
    "- There's a 70% chance on any given day that there will be at least one food truck at Travis Park. However, you haven't seen a food truck there in 3 days. How unlikely is this?\n",
    "\n",
    "- How likely is it that a food truck will show up sometime this week?"
   ]
  },
  {
   "cell_type": "code",
   "execution_count": null,
   "id": "0e3fccff-9cee-436e-848f-f9377e7361fe",
   "metadata": {},
   "outputs": [],
   "source": []
  },
  {
   "cell_type": "markdown",
   "id": "e2610521-ffd3-4545-aa48-3e91def0f55e",
   "metadata": {},
   "source": [
    "### 2. How likely is it that you roll doubles when rolling two dice?"
   ]
  },
  {
   "cell_type": "code",
   "execution_count": null,
   "id": "926371d7-05c3-43de-acd0-80fc837d6a7e",
   "metadata": {},
   "outputs": [],
   "source": []
  },
  {
   "cell_type": "markdown",
   "id": "fae6950c-ac7a-495d-abc2-3d3fbc137536",
   "metadata": {},
   "source": [
    "### 8. If 23 people are in the same room, what are the odds that two of them share a birthday? What if it's 20 people? 40?"
   ]
  },
  {
   "cell_type": "code",
   "execution_count": null,
   "id": "13a9ce83-3fe0-469e-803a-7f844aed2887",
   "metadata": {},
   "outputs": [],
   "source": []
  }
 ],
 "metadata": {
  "kernelspec": {
   "display_name": "Python 3 (ipykernel)",
   "language": "python",
   "name": "python3"
  },
  "language_info": {
   "codemirror_mode": {
    "name": "ipython",
    "version": 3
   },
   "file_extension": ".py",
   "mimetype": "text/x-python",
   "name": "python",
   "nbconvert_exporter": "python",
   "pygments_lexer": "ipython3",
   "version": "3.11.0"
  }
 },
 "nbformat": 4,
 "nbformat_minor": 5
}
